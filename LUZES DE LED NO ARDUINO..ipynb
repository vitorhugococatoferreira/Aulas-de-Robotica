{
 "cells": [
  {
   "cell_type": "markdown",
   "metadata": {},
   "source": [
    "<h1><center>OQUE É !? E COMO INSTALAR O GIT</center></h1>"
   ]
  },
  {
   "cell_type": "markdown",
   "metadata": {},
   "source": [
    " O GITHUB é um serviço de web compartilhado que utilizam o GIT para versionamento. Ou seja o GITHUB é só o local na web na nuvem que vai armazenar os projetos versionados pelo GIT.\n",
    "\n",
    " Muitas pessoas acham que eles são iguais, porem são bem diferentes. O GIT é o sistma de controle de versão, seus aruivos local e o GITHUB nada mais é que um local na web aonde você consegue guardar e postar os seus projetos feito pelo GIT. Sem o GIT não existiria o GITHUB que hoje em dia é tratado como uma rede social que você disponibililiza seu codigo para todo mundo ver, mais para quem desejar nas versões pagas tem a opção para você deixar seus projetos e informações restritas  privadas. \n",
    " \n",
    " "
   ]
  },
  {
   "cell_type": "markdown",
   "metadata": {},
   "source": [
    "<h3><center>INSTALANDO O GIT</center></h3>"
   ]
  },
  {
   "cell_type": "markdown",
   "metadata": {},
   "source": [
    "Para instalar o Git temos que ir até a sua plataforma e escolher a opção compativel com o seu sistema operacional. Link abaixo:\n",
    "\n",
    "htpps://git-csm.com/download"
   ]
  },
  {
   "cell_type": "markdown",
   "metadata": {},
   "source": [
    "Agora que já temos o GIT instalado, temos que abrir o terminal e definir o nosso usuario, senha e email.\n",
    "\n",
    "Lembrando que o GIT guarda seus arquivos em três lugares que são o: GIT config do sistema como um todo. O Git config do\n",
    "usuario e o Git config do projeto especifico daquele repositorio. Para passar as informações para os três repositorios vamos\n",
    "utilizar o GIT config do usuario.\n",
    "\n",
    "1 - Começamos definindo o nosso nome de usuario.\n",
    "\n",
    "git config --global user.name \"Vitor Hugo\"\n",
    "\n",
    "================================================\n",
    "\n",
    "2 - definindo o e-mail.\n",
    "\n",
    "git config --global user.email \"vitor514912@gmail.com\"\n",
    "\n",
    "================================================\n",
    "\n",
    "3 - E por ultimo, tambem podemos definir o nosso no qual vamos utilizar.\n",
    "\n",
    "git config --global core.editor sub \n",
    "// sub (sublime )\n",
    "\n",
    "================================================\n",
    "\n",
    "E por enquanto vamos utilizar esses tres comandos para a nossa configuração basica.\n",
    "\n",
    "\n",
    "\n"
   ]
  },
  {
   "cell_type": "markdown",
   "metadata": {},
   "source": [
    "Vamos começar digitando um comando para criar as nossas pastas.\n",
    "\n",
    "mkdir git -course \n",
    "\n",
    "\n",
    "Para entrarmos na pasta digitamos.\n",
    "\n",
    "cd git -course/\n",
    "\n",
    "\n",
    "Para atualizar e exergar as mudanças, vamos utilizar o:\n",
    "\n",
    "git init\n",
    "\n",
    "\n",
    "\n"
   ]
  },
  {
   "cell_type": "code",
   "execution_count": null,
   "metadata": {},
   "outputs": [],
   "source": []
  },
  {
   "cell_type": "code",
   "execution_count": null,
   "metadata": {},
   "outputs": [],
   "source": []
  }
 ],
 "metadata": {
  "kernelspec": {
   "display_name": "Python 3",
   "language": "python",
   "name": "python3"
  },
  "language_info": {
   "codemirror_mode": {
    "name": "ipython",
    "version": 3
   },
   "file_extension": ".py",
   "mimetype": "text/x-python",
   "name": "python",
   "nbconvert_exporter": "python",
   "pygments_lexer": "ipython3",
   "version": "3.7.3"
  }
 },
 "nbformat": 4,
 "nbformat_minor": 2
}
