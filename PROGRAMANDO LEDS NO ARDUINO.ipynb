{
 "cells": [
  {
   "cell_type": "markdown",
   "metadata": {},
   "source": [
    " <font color=\"red\"><CENTER><H2>APRENDENDO SOBRE ARDUINO!</H2></CENTER></font>"
   ]
  },
  {
   "cell_type": "markdown",
   "metadata": {},
   "source": [
    "Se você tem interesse em entrar no mundo do Arduino, mas não quer investir agora em uma placa ou kit de robótica, não se preocupe. A Autodesk (a mesma empresa responsável pelo desenvolvimento do AutoCad) criou um simulador Arduino gratuito e que dispensa instalação, chamado Autodesk Circuits.\n",
    "\n",
    "Isso mesmo, é um simulador grátis e sem necessidade de fazer download. O software roda direto no navegador e você pode utilizá-lo sem nem mesmo precisar fazer cadastro. Muito bom, não é?\n",
    "\n",
    "Além de poder simular componentes em protoboard e carregar códigos para o Arduino, é possível projetar PCBs (Placa de Circuito Impresso).\n",
    "\n",
    "Neste tutorial, vamos focar em como trabalhar com o Arduino. No nosso exemplo, faremos o “Blink”, ou seja, um pisca-pisca utilizando um LED."
   ]
  },
  {
   "cell_type": "markdown",
   "metadata": {},
   "source": [
    "<font color=\"blue\"><CENTER><H2>Passo 1: Entendendo como utilizar a Protoboard</H2></CENTER></font>"
   ]
  },
  {
   "cell_type": "markdown",
   "metadata": {},
   "source": [
    "A primeira coisa a fazer é montar o circuito utilizando uma protoboard. Mas para isso, precisamos entender como ela funciona.\n",
    "\n",
    "A protoboard é uma placa para prototipação. Serve para inserir componentes elétricos e eletrônicos para simulação de um circuito. Ela possui furos que podem passar corrente elétrica.\n",
    "\n",
    "protoboard\n",
    "\n",
    "Note que os furos centrais da protoboard são marcados com as letras A até J nas linhas e números nas colunas. Os furos que formam as colunas entre A e E são ligados na vertical, ou seja, formam uma espécie de fio. Isso mesmo, image que existe um cabo que liga os furos A até E. O mesmo é válido para os furos de F a J. Uma coluna não é interligada com a outra. Sendo assim, caso queira fazer com que a corrente elétrica passe de uma coluna para outra, será necessário colocar um cabo (jumper) ou mesmo um componente (como por exemplo, um resistor) entre as duas colunas.\n",
    "\n",
    "Já os furos das extremidades são ligados na horizontal. Ou seja, uma linha inteira é ligada em série como se fosse um único fio. Contudo, uma linha não é interligada com outra.\n",
    "\n",
    "Entendendo isso, agora você precisará conhecer os componentes que irão no nosso circuito."
   ]
  },
  {
   "cell_type": "markdown",
   "metadata": {},
   "source": [
    "<font color=\"yellow\"><CENTER><H2>Passo 2: Utilizando o LED e o Resistor</H2></CENTER></font>"
   ]
  },
  {
   "cell_type": "markdown",
   "metadata": {},
   "source": [
    "Diodos Emissores de Luz, ou simplesmente LEDs (Light Emissor Diode) são componentes que convertem energia elétrica em energia luminosa. Eles possuem polaridade. Isso quer dizer que a corrente flui em apenas um sentido. Por isso, você deverá conectar a entrada de energia no pólo positivo (perninha maior) e o terra (onde é fechado o circuito) no lado negativo.\n",
    "\n",
    "led\n",
    "\n",
    "Já os resistores são componentes que limitam a passagem de corrente, por oferecerem uma resistência. Essa grandeza física é medida em ohms (Ω). Para nosso exemplo, vamos utilizar um resistor de 300 Ω que é suficiente para impedir que o LED queime, de acordo com a corrente enviada pelo Arduino."
   ]
  },
  {
   "cell_type": "markdown",
   "metadata": {},
   "source": [
    "<font color=\"black\"><CENTER><H2>Passo 3: Conhecendo um pouco do Arduino e montando o Circuito</H2></CENTER></font>"
   ]
  },
  {
   "cell_type": "markdown",
   "metadata": {},
   "source": [
    "O Arduino será o responsável tanto por enviar energia quanto cortar este fornecimento ao LED em certos intervalos de tempo, fazendo com que possamos ver o efeito de “pisca-pisca”.\n",
    "\n",
    "Para isso utilizaremos uma porta digital. As portas digitais tem uma grande característica: são facilmente programadas para LIGAR (enviar energia) e DESLIGAR (não enviar). No nosso exemplo utilizamos a porta 13, mas você é livre para escolher outra.\n",
    "\n",
    "arduino\n",
    "\n",
    " \n",
    "\n",
    "Note que na figura a seguir ainda utilizaremos o GND (ground ou simplesmente “terra“) que é onde fecharemos o circuito para que a corrente possa fluir. O Arduino UNO possui 3 entradas GND e você pode escolher qualquer uma para este tutorial.\n",
    "\n",
    "blink_led"
   ]
  },
  {
   "cell_type": "markdown",
   "metadata": {},
   "source": [
    "<font color=\"purple\"><CENTER><H2>Passo 4: Programando o Arduino</H2></CENTER></font>"
   ]
  },
  {
   "cell_type": "markdown",
   "metadata": {},
   "source": [
    "Abra o seu Ambiente de Desenvolvimento (IDE) do Arduino e digite o seguinte código:"
   ]
  },
  {
   "cell_type": "markdown",
   "metadata": {},
   "source": [
    "\n",
    "int led = 13;\n",
    "\n",
    "void setup() {\n",
    "\n",
    "pinMode(led, OUTPUT);\n",
    "}\n",
    "\n",
    "void loop() {\n",
    "\n",
    "digitalWrite(led, HIGH);\n",
    "\n",
    "delay(1000);\n",
    "\n",
    "digitalWrite(led, LOW);\n",
    "\n",
    "delay(1000);\n",
    "}\n"
   ]
  },
  {
   "cell_type": "markdown",
   "metadata": {},
   "source": [
    "Agora vamos entender o que está acontecendo. Na linha 1 criei uma variável do tipo inteira com o nome “led” que recebe o valor 13 (número da porta digital do Arduino em que está conectado o LED).\n",
    "\n",
    "Na linha 3 iniciei a função setup. Esta função, assim como a função loop são funções “main” (principais) do Arduino. Sem elas nossa plaquinha azul não tem funcionalidade. A diferença entre as duas é que a setup será executada primeiro e uma única vez. Ela é amplamente usada para colocarmos as configurações iniciais do nosso Arduino. Por isso este nome setup (“configuração”). Já a função loop é executada posteriormente e será reexecutada inúmeras vezes, enquanto o microcontrolador estiver com alimentação de energia.\n",
    "\n",
    "Na linha 4 configurei a porta digital 13 como SAÍDA de energia. Para isso, utilizei a função pinMode que exige dois parâmetros separados por vírgula: o primeiro é o número da porta digital (veja que passei o nome da variável LED que equivale ao valor 13, mas se você quisesse poderia por 13 diretamente) e o segundo é o tipo que será a porta, ou seja, ENTRADA de energia (INPUT) ou SAÍDA (OUTPUT). Como queremos fornecer energia para acender um LED, a porta 13 deverá ser do tipo OUTPUT.\n",
    "\n",
    "Na linha 7 inicio a função loop e na sequência (linha 8) faço com que o Arduino ligue a porta digital 13, utilizando a função digitalWrite. Esta função é exclusiva para escrever valores para LIGAR (HIGH) e DESLIGAR (LOW) portas digitais. Para isso, o primeiro parâmetro da função pede o número da porta e o segundo se esta deverá ficar ligada ou desligada. Observe que mandei LIGAR (HIGH).\n",
    "\n",
    "Na linha 9 chamei a função delay. Como o Arduino executa o código muito rapidamente (frações de segundos), não seria possível ver o LED acender e apagar, pois o processo seria feito tão rapidamente que não veríamos alteração alguma no componente luminoso. Por este motivo, coloquei a delay para “forçar” o Arduino esperar. Esse atraso é configurado conforme o parâmetro entre parênteses da função. O valor colocado é dado em milissegundos (ms). No meu caso, 1000 ms, ou seja, 1 segundo.\n",
    "\n",
    "Na sequência refiz o mesmo procedimento, todavia, ao invés de ligar, programei para DESLIGAR o LED passando o parâmetro LOW na função digitalWrite e novamente apliquei um delay de 1 segundo.\n",
    "\n",
    "Como a função loop chegou ao fim, o Arduino automaticamente se encarregará de executá-la de novo. Sendo assim, veremos nosso LED piscar com um intervalo de 1 segundo.\n",
    "\n",
    "Agora basta apenas enviarmos o código para o Arduino apertando o botão UPLOAD upload_arduino da IDE. Entretanto, verifique se o Arduino está bem conectado na porta USB e se sua Interface de Desenvolvimento está configurada conforme a placa utilizada. Para ver isso, clique em Tools / Board e selecione o modelo da sua placa.\n",
    "\n",
    "tool-board-arduino-no\n",
    "\n",
    "Caso não tenha ainda um Arduino, recomendo que utilize o simulador gratuito para dar seus primeiros passos com a plataforma."
   ]
  },
  {
   "cell_type": "code",
   "execution_count": null,
   "metadata": {},
   "outputs": [],
   "source": []
  }
 ],
 "metadata": {
  "kernelspec": {
   "display_name": "Python 3",
   "language": "python",
   "name": "python3"
  },
  "language_info": {
   "codemirror_mode": {
    "name": "ipython",
    "version": 3
   },
   "file_extension": ".py",
   "mimetype": "text/x-python",
   "name": "python",
   "nbconvert_exporter": "python",
   "pygments_lexer": "ipython3",
   "version": "3.7.3"
  }
 },
 "nbformat": 4,
 "nbformat_minor": 2
}
